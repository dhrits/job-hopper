{
 "cells": [
  {
   "cell_type": "markdown",
   "id": "770a1ed4-56f6-46d4-a866-5dd621bea70e",
   "metadata": {},
   "source": [
    "# Motivation\n",
    "This notebook indexes all data available in [Kaggle Jobs Dataset](https://www.kaggle.com/datasets/promptcloud/indeed-job-posting-dataset) into a Qdrant Cloud database so it is available for use in the chat bot. This data has been preprocessed in the file `../data/jobs.csv`."
   ]
  },
  {
   "cell_type": "code",
   "execution_count": 21,
   "id": "304fcdc8-d731-43d7-8fb7-2e92ab496e87",
   "metadata": {},
   "outputs": [],
   "source": [
    "import tiktoken\n",
    "import os\n",
    "from qdrant_client import QdrantClient\n",
    "from langchain_qdrant import QdrantVectorStore\n",
    "from qdrant_client.http.models import Distance, VectorParams\n",
    "from langchain_text_splitters import RecursiveCharacterTextSplitter\n",
    "from langchain_community.document_loaders import PyMuPDFLoader, UnstructuredHTMLLoader\n",
    "from langchain_community.vectorstores import Qdrant\n",
    "from langchain.llms import OpenAI\n",
    "from langchain.chat_models import ChatOpenAI\n",
    "from langchain.embeddings import OpenAIEmbeddings"
   ]
  },
  {
   "cell_type": "code",
   "execution_count": 22,
   "id": "d0b153c6-8a16-4073-988f-88e3366acad8",
   "metadata": {},
   "outputs": [],
   "source": [
    "from dotenv import load_dotenv; _ = load_dotenv()"
   ]
  },
  {
   "cell_type": "code",
   "execution_count": 31,
   "id": "b9489aa5-103b-4be8-b7a6-015cee21d26b",
   "metadata": {},
   "outputs": [],
   "source": [
    "import numpy as np\n",
    "from typing import List\n",
    "from langchain_core.documents.base import Document\n",
    "from langchain_community.document_loaders.csv_loader import CSVLoader\n",
    "from langchain_text_splitters import RecursiveCharacterTextSplitter\n",
    "\n",
    "\n",
    "loader = CSVLoader('../data/jobs.csv')\n",
    "documents = loader.load()\n",
    "median_len = get_median_document_length(documents)\n",
    "text_splitter = RecursiveCharacterTextSplitter(\n",
    "    chunk_size=500,\n",
    "    chunk_overlap=250,\n",
    "    length_function=len\n",
    "  )\n",
    "documents = text_splitter.split_documents(documents)"
   ]
  },
  {
   "cell_type": "code",
   "execution_count": 32,
   "id": "e8df87a0-e641-47c9-85bf-19f0eee91b3d",
   "metadata": {},
   "outputs": [],
   "source": [
    "from langchain_huggingface.embeddings import HuggingFaceEndpointEmbeddings\n",
    "\n",
    "EMBED_MODEL_URL = \"https://kokpt1wbsv2ul4jl.us-east-1.aws.endpoints.huggingface.cloud\"\n",
    "\n",
    "embeddings = HuggingFaceEndpointEmbeddings(\n",
    "    model=EMBED_MODEL_URL,\n",
    "    task=\"feature-extraction\",\n",
    "    huggingfacehub_api_token=os.environ[\"HF_TOKEN\"],\n",
    ")"
   ]
  },
  {
   "cell_type": "markdown",
   "id": "a65f467f-6cab-47ff-92aa-487bbce78201",
   "metadata": {},
   "source": [
    "# Build the Vectorstore"
   ]
  },
  {
   "cell_type": "code",
   "execution_count": 41,
   "id": "df0a8639-4860-4e99-9486-25d0b44de0e1",
   "metadata": {},
   "outputs": [],
   "source": [
    "client = QdrantClient(\n",
    "    url=os.environ.get('QDRANT_DB_BITTER_MAMMAL'), # Name of the qdrant cluster is bitter_mammal\n",
    "    api_key=os.environ.get('QDRANT_API_KEY_BITTER_MAMMAL'),\n",
    ")"
   ]
  },
  {
   "cell_type": "code",
   "execution_count": 42,
   "id": "1c14ba2b-78c1-4d24-a40e-0b777c7ad4cc",
   "metadata": {},
   "outputs": [
    {
     "data": {
      "text/plain": [
       "True"
      ]
     },
     "execution_count": 42,
     "metadata": {},
     "output_type": "execute_result"
    }
   ],
   "source": [
    "client.create_collection(\n",
    "    collection_name=\"indeed_jobs_db3\",\n",
    "    vectors_config=VectorParams(size=768, distance=Distance.COSINE),\n",
    ")"
   ]
  },
  {
   "cell_type": "code",
   "execution_count": 43,
   "id": "42d76978-b496-4593-b980-81f139a696b9",
   "metadata": {},
   "outputs": [],
   "source": [
    "vector_store = QdrantVectorStore(\n",
    "    client=client,\n",
    "    collection_name=\"indeed_jobs_db3\",\n",
    "    embedding=embeddings,\n",
    ")"
   ]
  },
  {
   "cell_type": "code",
   "execution_count": 48,
   "id": "34015f5a-a86a-4577-9181-7bd5ca6757ac",
   "metadata": {},
   "outputs": [],
   "source": [
    "from tqdm import tqdm\n",
    "def add_documents(vector_store, documents, start=0):\n",
    "    for i in tqdm(range(0, len(documents), 10)):\n",
    "        batch = documents[i:i+10]\n",
    "        vector_store.add_documents(\n",
    "            documents=batch,\n",
    "        )\n",
    "        with open(\"checkpoint.txt\", \"w\") as f:\n",
    "            f.write(str(start+i+10))"
   ]
  },
  {
   "cell_type": "code",
   "execution_count": null,
   "id": "c1eb24bd-dbf7-43df-adc2-38143cfe47e0",
   "metadata": {},
   "outputs": [
    {
     "name": "stderr",
     "output_type": "stream",
     "text": [
      " 37%|███████████████████████████████████████████▎                                                                        | 16424/43931 [54:24<1:30:19,  5.08it/s]"
     ]
    }
   ],
   "source": [
    "add_documents(vector_store, documents[110610:], start=110610)"
   ]
  },
  {
   "cell_type": "code",
   "execution_count": null,
   "id": "00e11b50-369c-4208-ba1d-cd0b2d16263b",
   "metadata": {},
   "outputs": [],
   "source": []
  }
 ],
 "metadata": {
  "kernelspec": {
   "display_name": "Python 3 (ipykernel)",
   "language": "python",
   "name": "python3"
  },
  "language_info": {
   "codemirror_mode": {
    "name": "ipython",
    "version": 3
   },
   "file_extension": ".py",
   "mimetype": "text/x-python",
   "name": "python",
   "nbconvert_exporter": "python",
   "pygments_lexer": "ipython3",
   "version": "3.9.20"
  }
 },
 "nbformat": 4,
 "nbformat_minor": 5
}
