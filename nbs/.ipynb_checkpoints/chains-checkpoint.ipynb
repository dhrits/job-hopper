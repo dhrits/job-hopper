{
 "cells": [
  {
   "cell_type": "code",
   "execution_count": 160,
   "id": "19cc6876-a0c6-42ee-9d21-d3a6527df88d",
   "metadata": {},
   "outputs": [],
   "source": [
    "import os\n",
    "from typing import Tuple, List\n",
    "import torch\n",
    "from operator import itemgetter\n",
    "from langchain_core.prompts.chat import SystemMessagePromptTemplate, ChatPromptTemplate, PromptTemplate\n",
    "from langchain_core.messages import SystemMessage, ChatMessage\n",
    "from langchain_core.runnables import Runnable, RunnableParallel, RunnablePassthrough\n",
    "from langchain_openai.chat_models import ChatOpenAI \n",
    "from langchain_community.document_loaders import PyMuPDFLoader, PyPDFLoader\n",
    "from langchain.agents.format_scratchpad import format_log_to_str\n",
    "from langchain.agents.output_parsers import ReActSingleInputOutputParser\n",
    "from langchain.tools.render import render_text_description\n",
    "from langchain_core.output_parsers import StrOutputParser\n",
    "from langchain.chains.conversation.base import ConversationChain\n",
    "from langchain.agents import AgentExecutor, create_react_agent\n",
    "from langchain.agents.tools import tool\n",
    "from langchain_community.tools import TavilySearchResults\n",
    "from langchain_community.retrievers import TavilySearchAPIRetriever\n",
    "from langchain_community.vectorstores import Chroma\n",
    "from langchain_community.embeddings import HuggingFaceBgeEmbeddings, HuggingFaceEmbeddings\n",
    "from langchain_community.document_loaders import UnstructuredURLLoader\n",
    "from langchain_core.pydantic_v1 import BaseModel, Field\n",
    "from langchain_core.documents.base import Document\n",
    "from langchain.output_parsers import PydanticOutputParser\n",
    "\n",
    "from langgraph.graph import MessagesState\n",
    "from langchain_core.messages import AIMessage, HumanMessage, SystemMessage\n",
    "from langgraph.graph import START, StateGraph\n",
    "from langgraph.prebuilt import tools_condition, ToolNode\n",
    "from langgraph.checkpoint.memory import MemorySaver\n",
    "from IPython.display import Image, display"
   ]
  },
  {
   "cell_type": "code",
   "execution_count": 161,
   "id": "e38e8c1a-71fe-4a3d-8c1c-f69f3b4cc31e",
   "metadata": {},
   "outputs": [],
   "source": [
    "from dotenv import load_dotenv; _ = load_dotenv()"
   ]
  },
  {
   "cell_type": "code",
   "execution_count": 144,
   "id": "1c5f9a42-e846-4bd8-9bd0-91b698ac956c",
   "metadata": {},
   "outputs": [],
   "source": [
    "sys_prompt = \"\"\"\n",
    "You are a helpful job-coach. Your goal is to help answer any of the user's questions about job-postings, job-requirements,\n",
    "interviews etc. The user has provided you their resume below. You can make use of any of the tools available to you to best\n",
    "answer the user's specific questions. \n",
    "\n",
    "If the user goes off subject, remind them who you are and what you can help them with. Don't help them with anything not \n",
    "related to job search.\n",
    "\n",
    "Please think about all the tools available to you. In particular, if a user provides a URL, you can use tools available\n",
    "to resolve the URL to a job description.\n",
    "\n",
    "Resume:\n",
    "{resume}\n",
    "\"\"\""
   ]
  },
  {
   "cell_type": "code",
   "execution_count": 163,
   "id": "a0474115-415c-4165-be04-487ef597cca5",
   "metadata": {},
   "outputs": [],
   "source": [
    "sys_prompt = \"\"\"\n",
    "You are a helpful job-coach. Your goal is to help answer any of the user's questions about job-postings, job-requirements,\n",
    "interviews etc. The user has provided you their resume below. You can make use of any of the tools available to you to best\n",
    "answer the user's specific questions. \n",
    "\n",
    "Please follow the following guidelines:\n",
    "\n",
    "1. Be as helpful as you can. Don't lie, but be encouraging\n",
    "\n",
    "2. If the user goes off subject, remind them who you are and what you can help them with. Don't help them with anything not \n",
    "related to job search.\n",
    "\n",
    "3. Please think about all the tools available to you. In particular, if a user provides a URL, you can use tools available\n",
    "to resolve the URL to a job description. \n",
    "\n",
    "4. If the user asks for a rewritten resume or cover-letter, please provide them the resume or cover letter in your response.\n",
    "\n",
    "\n",
    "Resume:\n",
    "{resume}\n",
    "\"\"\""
   ]
  },
  {
   "cell_type": "code",
   "execution_count": 164,
   "id": "8f2510f8-9173-407d-a704-04a30285000e",
   "metadata": {},
   "outputs": [],
   "source": [
    "loader = PyMuPDFLoader('resume.pdf')\n",
    "documents = loader.load()\n",
    "resume = documents[0].page_content"
   ]
  },
  {
   "cell_type": "code",
   "execution_count": 165,
   "id": "a73b7288-13ab-412c-9539-7ac3ddbfce4e",
   "metadata": {},
   "outputs": [],
   "source": [
    "sys_msg = SystemMessagePromptTemplate.from_template(sys_prompt).format(resume=resume)"
   ]
  },
  {
   "cell_type": "code",
   "execution_count": 166,
   "id": "08badf66-8620-4037-b4be-8990da64e879",
   "metadata": {},
   "outputs": [],
   "source": [
    "# Tools\n",
    "\n",
    "def url_resolver(url: str) -> str:\n",
    "    \"\"\"Given a `url`, resolves it to the contents of the page\"\"\"\n",
    "    loader = SeleniumURLLoader(urls=[url])\n",
    "    documents = loader.load()\n",
    "    contents = documents[0].page_content\n",
    "    return contents\n",
    "\n",
    "def resume_writer(resume: str, job_description: str) -> str:\n",
    "    \"\"\"Given a `resume` and `job_description`, tailors this resume to the specific job description\"\"\"\n",
    "    llm = ChatOpenAI(model='gpt-4o')\n",
    "    prompt = \"\"\"You are a helpful AI Assistant. Given a resume and a job description below, please tailor the resume\n",
    "    to the specific job. Do not make up any details or add any facts not in the base resume\n",
    "\n",
    "    Resume:\n",
    "    {resume}\n",
    "\n",
    "    Job Description:\n",
    "    {job_description}\n",
    "    \"\"\"\n",
    "    prompt = ChatPromptTemplate.from_template(prompt)\n",
    "    chain = prompt | llm\n",
    "    response = chain.invoke({'resume': resume, 'job_description': job_description}).content\n",
    "    return response\n",
    "\n",
    "\n",
    "def cover_letter_writer(resume: str, job_description: str) -> str:\n",
    "    \"\"\"Given a `resume` and `job_description`, returns a cover-letter tailored to this specific job description\"\"\"\n",
    "    llm = ChatOpenAI(model='gpt-4o')\n",
    "    prompt = \"\"\"You are a helpful AI Assistant. Given a resume and a job description below. Please write a personalized\n",
    "    cover letter to apply for this job description.\n",
    "\n",
    "    Resume:\n",
    "    {resume}\n",
    "\n",
    "    Job Description:\n",
    "    {job_description}\n",
    "    \"\"\"\n",
    "    prompt = ChatPromptTemplate.from_template(prompt)\n",
    "    chain = prompt | llm\n",
    "    response = chain.invoke({'resume': resume, 'job_description': job_description}).content\n",
    "    return response\n",
    "\n",
    "\n",
    "def web_searcher(query: str) -> (str, List[Document]):\n",
    "    \"\"\"Given a `query`, searches the web for potential results and returns an answer and relevant context.\"\"\"\n",
    "    llm = ChatOpenAI(model='gpt-4o')\n",
    "    prompt = \"\"\"\n",
    "    You are a helpful and kind assistant. Use the context provided below to answer the question.\n",
    "    \n",
    "    If you do not know the answer, or are unsure, say you don't know.\n",
    "    \n",
    "    Query:\n",
    "    {question}\n",
    "    \n",
    "    Context:\n",
    "    {context}\n",
    "    \"\"\"\n",
    "    prompt = ChatPromptTemplate.from_template(prompt)\n",
    "    retriever = TavilySearchAPIRetriever(k=5)\n",
    "    rag_chain = (\n",
    "        {\"context\": itemgetter(\"question\") | retriever, \"question\": itemgetter(\"question\")}\n",
    "        | RunnablePassthrough.assign(context=itemgetter(\"context\"))\n",
    "        | {\"response\": rag_prompt | llm, \"context\": itemgetter(\"context\")}\n",
    "    )\n",
    "    results = chain.invoke({'question': query})\n",
    "    return results['response'], results['context']"
   ]
  },
  {
   "cell_type": "code",
   "execution_count": 167,
   "id": "d7c1a2f7-9266-4e18-8606-17b7568dd154",
   "metadata": {},
   "outputs": [],
   "source": [
    "tools = [url_resolver, resume_writer, cover_letter_writer, web_searcher]\n",
    "llm = ChatOpenAI(model='gpt-4o')\n",
    "llm_with_tools = llm.bind_tools(tools)"
   ]
  },
  {
   "cell_type": "code",
   "execution_count": 168,
   "id": "2050ba6f-8ade-418a-b961-85178677ecdb",
   "metadata": {},
   "outputs": [
    {
     "data": {
      "image/jpeg": "[encoded data removed]",
      "text/plain": [
       "<IPython.core.display.Image object>"
      ]
     },
     "metadata": {},
     "output_type": "display_data"
    }
   ],
   "source": [
    "# Nodes\n",
    "def assistant(state: MessagesState):\n",
    "   return {\"messages\": [llm_with_tools.invoke([sys_msg] + state[\"messages\"])]}\n",
    "\n",
    "\n",
    "memory = MemorySaver()\n",
    "builder = StateGraph(MessagesState)\n",
    "\n",
    "\n",
    "builder.add_node(\"assistant\", assistant)\n",
    "builder.add_node(\"tools\", ToolNode(tools))\n",
    "\n",
    "builder.add_edge(START, \"assistant\")\n",
    "builder.add_conditional_edges(\n",
    "    \"assistant\",\n",
    "    tools_condition,\n",
    ")\n",
    "\n",
    "builder.add_edge(\"tools\", \"assistant\")\n",
    "chain = builder.compile(checkpointer=memory)\n",
    "\n",
    "# Show\n",
    "display(Image(chain.get_graph(xray=True).draw_mermaid_png()))   "
   ]
  },
  {
   "cell_type": "code",
   "execution_count": 169,
   "id": "11008ca2-b493-4f02-ae83-11dd084cdfb5",
   "metadata": {},
   "outputs": [],
   "source": [
    "# Helper function for notebook\n",
    "\n",
    "config = {\"configurable\": {\"thread_id\": \"1\"}}\n",
    "\n",
    "async def message(msg):\n",
    "    messages = [HumanMessage(content=msg)]\n",
    "    async for chunk in chain.astream({'messages': messages}, config):\n",
    "        if 'assistant' in chunk:\n",
    "            print(chunk['assistant']['messages'][-1].content)\n",
    "\n",
    "def message_history(msg):\n",
    "    messages = [HumanMessage(content=msg)]\n",
    "    messages = chain.invoke({\"messages\": messages},config)\n",
    "    for m in messages['messages']:\n",
    "        m.pretty_print()"
   ]
  },
  {
   "cell_type": "code",
   "execution_count": 170,
   "id": "087f4641-bc3e-4dec-86cc-6da416c0ade4",
   "metadata": {},
   "outputs": [
    {
     "name": "stdout",
     "output_type": "stream",
     "text": [
      "Of course! I'm here to help you with anything related to job searches, including job postings, requirements, interviews, resume and cover letter advice, and more. How can I assist you today?\n"
     ]
    }
   ],
   "source": [
    "await message(\"Hello - can you help me?\")"
   ]
  },
  {
   "cell_type": "code",
   "execution_count": 171,
   "id": "3f65b771-5590-4bcf-a0a6-9a1d07d583c2",
   "metadata": {
    "scrolled": true
   },
   "outputs": [
    {
     "name": "stdout",
     "output_type": "stream",
     "text": [
      "\n",
      "\n",
      "I've tailored your resume for the Software Engineer, Backend position at Snap Inc. It highlights your relevant experiences and skills that closely align with the job description. Here's the tailored version:\n",
      "\n",
      "---\n",
      "\n",
      "**Dhritiman Sagar**\n",
      "\n",
      "**Local Address:**  \n",
      "4119 Via Marina, Apt S306, Marina del Rey, CA 90292  \n",
      "**E-mail:** dhrits100@gmail.com  \n",
      "**Phone:** 734-272-2815\n",
      "\n",
      "---\n",
      "\n",
      "**Summary**\n",
      "\n",
      "Experienced Software Engineer specializing in designing and building innovative software solutions. Skilled in backend services, distributed systems, and mobile development. Proven track record in maintaining highly-available systems at scale, with experience in cloud computing and storage systems. Proficient in Java, C++, and Python.\n",
      "\n",
      "---\n",
      "\n",
      "**Experience**\n",
      "\n",
      "**Snapchat**  \n",
      "Venice, CA  \n",
      "*June 2016 - Present*\n",
      "\n",
      "- Collaborated with Lenses, Camera, and Research teams to create mobile experiences and interactions.\n",
      "- Involved in designing and operating scalable services that enhance Snapchat’s offerings.\n",
      "\n",
      "**Vine/Twitter**  \n",
      "New York, NY  \n",
      "*Nov 2013 - June 2016*\n",
      "\n",
      "- Maintained and enhanced Vine’s Python/Flask-based REST API.\n",
      "- Built backend systems for content identification, user reporting, and policy enforcement.\n",
      "- Developed Android features and experiences, including sharing to external networks and in-app reporting.\n",
      "- Prototyped algorithms for user interaction and engagement, utilizing search and analytics tools.\n",
      "- Used BigQuery and Bime to create and maintain feature-related dashboards.\n",
      "- Employed MapReduce for analytics and optimized existing systems for performance.\n",
      "\n",
      "**Bloomberg LP – Feeds Americas**  \n",
      "New York, NY  \n",
      "*July 2011 - November 2013*\n",
      "\n",
      "- Developed high-speed, concurrent real-time exchange data parsers.\n",
      "- Built encoders/decoders for C++ FAST/FIX protocol and optimized data feeds for speed and throughput.\n",
      "- Engaged in experimental re-write of exchange-connectivity libraries and worked on concurrency and memory primitives for C++ feeds library.\n",
      "\n",
      "---\n",
      "\n",
      "**Education**\n",
      "\n",
      "Bachelor of Science in Computer Science\n",
      "\n",
      "---\n",
      "\n",
      "**Skills**\n",
      "\n",
      "- Backend services and distributed systems\n",
      "- Cloud computing and storage systems\n",
      "- Java, C++, Python\n",
      "- NoSQL solutions, Memcache/Redis, Kubernetes, Google/AWS services\n",
      "- Experience with large-scale microservices and infrastructure design\n",
      "- Strong collaboration and cross-team communication skills\n",
      "\n",
      "---\n",
      "\n",
      "**Additional Information**\n",
      "\n",
      "- Experience working in high-paced environments and delivering solutions that meet product requirements.\n",
      "- Advocated for operational excellence and best practices in software development.\n",
      "\n",
      "---\n",
      "\n",
      "Feel free to make any additional adjustments or let me know if there's anything else I can assist with!\n"
     ]
    }
   ],
   "source": [
    "await message(\"Can you help me tailor my resume to this role: https://www.builtinnyc.com/job/software-engineer-backend-3-years-experience/279203\")"
   ]
  },
  {
   "cell_type": "code",
   "execution_count": 154,
   "id": "019d3b78-828e-47f7-85ea-bc4799273581",
   "metadata": {},
   "outputs": [
    {
     "name": "stdout",
     "output_type": "stream",
     "text": [
      "\n",
      "Here's a tailored cover letter for the Backend Engineer position at Snap Inc.:\n",
      "\n",
      "---\n",
      "\n",
      "[Your Name]  \n",
      "4119 Via Marina, Apt S306  \n",
      "Marina del Rey, CA 90292  \n",
      "dhrits100@gmail.com  \n",
      "734-272-2815  \n",
      "\n",
      "[Date]  \n",
      "\n",
      "Hiring Manager  \n",
      "Snap Inc.  \n",
      "[Company Address]  \n",
      "[City, State, Zip Code]  \n",
      "\n",
      "Dear Hiring Manager,\n",
      "\n",
      "I am writing to express my interest in the Backend Engineer position at Snap Inc., as advertised. With a strong background in backend services and distributed systems, coupled with my current experience at Snapchat, I am excited about the opportunity to contribute to your team and help design, implement, and operate critical scalable services.\n",
      "\n",
      "In my current role at Snapchat, I have had the privilege of collaborating with multiple teams including Lenses, Camera, and Research to develop mobile experiences that prioritize high-quality and scalable solutions. This role has honed my ability to evaluate product requirements, assess trade-offs, and deliver optimal solutions—skills that align well with the responsibilities of the Backend Engineer role at Snap Inc.\n",
      "\n",
      "My tenure at Vine/Twitter further solidified my expertise in maintaining and enhancing large-scale systems. I was responsible for optimizing backend services and developing features for Android, which involved working extensively with REST APIs and analytics dashboards using tools like BigQuery and Bime. These experiences have equipped me with the ability to independently execute medium-sized features, evaluate and debug work effectively, and ensure operational excellence—key requirements for this role.\n",
      "\n",
      "I am particularly drawn to Snap Inc.’s commitment to innovation and operational excellence. My experience with cloud computing, large-scale microservices, and infrastructure aligns with your requirements, as does my proficiency with Java, C++, Python, and NoSQL solutions like Memcache/Redis. Furthermore, my ability to work collaboratively across teams and my track record of resolving incidents efficiently would make me a valuable asset to your engineering team.\n",
      "\n",
      "I hold a BS/BA degree in a technical field, which, combined with over a decade of software development experience, allows me to bring both theoretical knowledge and practical expertise to your organization.\n",
      "\n",
      "I am enthusiastic about the prospect of joining Snap Inc. and contributing to the development of scalable, high-quality backend services. Thank you for considering my application. I look forward to the opportunity to discuss how my experience and skills align with the goals of your team.\n",
      "\n",
      "Warm regards,\n",
      "\n",
      "Dhritiman Sagar\n",
      "\n",
      "---\n",
      "\n",
      "Feel free to personalize any details and let me know if there's anything else I can assist with!\n"
     ]
    }
   ],
   "source": [
    "await message(\"Can you share a cover letter for the same position with me?\")"
   ]
  },
  {
   "cell_type": "code",
   "execution_count": 172,
   "id": "20ae3215-26c2-45f2-8c5c-03b83036ad37",
   "metadata": {},
   "outputs": [
    {
     "name": "stdout",
     "output_type": "stream",
     "text": [
      "Based on your resume and the job description for the Software Engineer, Backend position at Snap Inc., I believe you are a strong candidate for the role. Here are some reasons why:\n",
      "\n",
      "1. **Relevant Experience**: You have extensive experience in backend services and distributed systems, which is a key requirement for the role.\n",
      "\n",
      "2. **Technical Skills**: You are proficient in Java, C++, and Python, which are preferred qualifications for the position. Additionally, your experience with cloud computing and storage systems aligns well with the job's requirements.\n",
      "\n",
      "3. **Proven Track Record**: Your resume demonstrates a history of operating highly-available systems at scale, which is crucial for the role at Snap Inc.\n",
      "\n",
      "4. **Collaboration and Innovation**: Your experience working across teams and developing innovative mobile interactions and backend systems is in line with Snap Inc.'s emphasis on collaboration and product development.\n",
      "\n",
      "5. **Alignment with Company Values**: Your work at Snapchat, especially with mobile experiences and interactions, suggests a familiarity with Snap Inc.'s core products and values, which could be an advantage in understanding and contributing to their vision.\n",
      "\n",
      "Overall, your background appears to be a good match for this role, and you seem well-equipped to handle the challenges and responsibilities it entails. Good luck with your application!\n"
     ]
    }
   ],
   "source": [
    "await message(\"Based on my resume, do you believe I'm a good fit for this role?\")"
   ]
  },
  {
   "cell_type": "code",
   "execution_count": 173,
   "id": "28321537-4b16-4c93-9529-6ebd71d30547",
   "metadata": {},
   "outputs": [
    {
     "name": "stdout",
     "output_type": "stream",
     "text": [
      "\n",
      "Based on your resume and the job description for the Assistant to the Director position at Greene Naftali Gallery, there are some key differences that may affect your fit for this role:\n",
      "\n",
      "1. **Art History Background**: The position requires a Bachelor’s degree in Art History or higher, with a preference for a Master’s degree. Your resume does not indicate this specific educational background.\n",
      "\n",
      "2. **Interest in Contemporary Art**: The role seeks a candidate with a strong interest in contemporary art and knowledge of gallery programs. Your resume focuses on software engineering and does not highlight experience or interest in the art field.\n",
      "\n",
      "3. **Administrative and Communication Skills**: While your technical and engineering skills are strong, this position emphasizes administrative tasks, writing, and communication skills, which may not be prominently featured in your resume.\n",
      "\n",
      "4. **Technical Skills in Adobe Software**: The role requires mastery of Adobe software (Photoshop, InDesign, Premiere) and familiarity with content management software like Artbase. Your resume does not specify expertise in these areas, focusing instead on programming languages and backend systems.\n",
      "\n",
      "5. **Experience with Galleries or Art Institutions**: Experience in administrative roles within galleries or art institutions is important for this position, which is not reflected in your engineering-focused work history.\n",
      "\n",
      "While your skills in organization, multitasking, and working in fast-paced environments are valuable, there may be a stronger alignment with roles that leverage your software engineering expertise. If you are passionate about art and willing to develop the necessary skills and knowledge, you could consider additional training or experiences in the art field to improve your fit for such roles.\n"
     ]
    }
   ],
   "source": [
    "await message(\"I also want to apply to this role: https://www.nyfa.org/view-job/?id=0632da7d-4cc3-426f-91d2-6109ae6a9e27 Do you think my background matches it?\")"
   ]
  },
  {
   "cell_type": "code",
   "execution_count": null,
   "id": "fbf5d8a3-d02e-4cfe-881a-a073e0ed3a2b",
   "metadata": {},
   "outputs": [],
   "source": []
  }
 ],
 "metadata": {
  "kernelspec": {
   "display_name": "Python 3 (ipykernel)",
   "language": "python",
   "name": "python3"
  },
  "language_info": {
   "codemirror_mode": {
    "name": "ipython",
    "version": 3
   },
   "file_extension": ".py",
   "mimetype": "text/x-python",
   "name": "python",
   "nbconvert_exporter": "python",
   "pygments_lexer": "ipython3",
   "version": "3.10.15"
  }
 },
 "nbformat": 4,
 "nbformat_minor": 5
}
